{
 "cells": [
  {
   "cell_type": "code",
   "execution_count": 4,
   "metadata": {},
   "outputs": [
    {
     "name": "stdout",
     "output_type": "stream",
     "text": [
      "I am created\n",
      "50000\n",
      "I am created\n",
      "40000\n"
     ]
    }
   ],
   "source": [
    "class Item:\n",
    "\n",
    "    def __init__(self):# called automatically\n",
    "        print(\"I am created\")\n",
    "    def calculate_total_price(self,x,y):\n",
    "        return x *y\n",
    "\n",
    "item1 = Item()\n",
    "item1.name = \"Phone\"\n",
    "item1.price = 10000\n",
    "item1.quantity = 5\n",
    "\n",
    "\n",
    "print(item1.calculate_total_price(item1.price,item1.quantity\n",
    "                                  ))\n",
    "\n",
    "\n",
    "item2 = Item()\n",
    "item2.name = \"Laptop\"\n",
    "item2.price = 20000\n",
    "item2.quantity = 2\n",
    "\n",
    "print(item2.calculate_total_price(item2.price,item2.quantity\n",
    "                                  )) \n"
   ]
  },
  {
   "cell_type": "code",
   "execution_count": 5,
   "metadata": {},
   "outputs": [
    {
     "name": "stdout",
     "output_type": "stream",
     "text": [
      "An instance created Phone\n",
      "50000\n",
      "An instance created Laptop\n",
      "40000\n"
     ]
    }
   ],
   "source": [
    "class Item:\n",
    "\n",
    "    def __init__(self,name):# called automatically\n",
    "        print(f\"An instance created {name}\")\n",
    "    def calculate_total_price(self,x,y):\n",
    "        return x *y\n",
    "\n",
    "item1 = Item(\"Phone\")\n",
    "item1.name = \"Phone\"\n",
    "item1.price = 10000\n",
    "item1.quantity = 5\n",
    "\n",
    "\n",
    "print(item1.calculate_total_price(item1.price,item1.quantity\n",
    "                                  ))\n",
    "\n",
    "\n",
    "item2 = Item(\"Laptop\")\n",
    "item2.name = \"Laptop\"\n",
    "item2.price = 20000\n",
    "item2.quantity = 2\n",
    "\n",
    "print(item2.calculate_total_price(item2.price,item2.quantity\n",
    "                                  )) \n"
   ]
  },
  {
   "cell_type": "code",
   "execution_count": 15,
   "metadata": {},
   "outputs": [
    {
     "name": "stdout",
     "output_type": "stream",
     "text": [
      "Phone\n",
      "10000\n",
      "5\n",
      "Total price: 50000\n",
      "Laptop\n",
      "20000\n",
      "2\n",
      "Total Price:  40000\n"
     ]
    }
   ],
   "source": [
    "class Item:\n",
    "\n",
    "    def __init__(self,name,price,quantity):# called automatically\n",
    "        self.name = name\n",
    "        self.price =price\n",
    "        self.quantity = quantity\n",
    "\n",
    "    def calculate_total_price(self):\n",
    "        return self.price * self.quantity\n",
    "\n",
    "item1 = Item(\"Phone\",10000,5)\n",
    "\n",
    "print(item1.name)\n",
    "print(item1.price)\n",
    "print(item1.quantity)\n",
    "print(\"Total price:\",item1.calculate_total_price())\n",
    "\n",
    "\n",
    "\n",
    "item2 = Item(\"Laptop\",20000,2)\n",
    "\n",
    "print(item2.name)\n",
    "print(item2.price)\n",
    "print(item2.quantity)\n",
    "print(\"Total Price: \",item2.calculate_total_price())\n",
    "\n"
   ]
  },
  {
   "cell_type": "markdown",
   "metadata": {},
   "source": [
    "# class with type"
   ]
  },
  {
   "cell_type": "code",
   "execution_count": 23,
   "metadata": {},
   "outputs": [
    {
     "name": "stdout",
     "output_type": "stream",
     "text": [
      "Phone\n",
      "10000\n",
      "5\n",
      "Total price: 50000\n",
      "Laptop\n",
      "20000\n",
      "2\n",
      "Total Price:  40000\n"
     ]
    }
   ],
   "source": [
    "class Item:\n",
    "\n",
    "    def __init__(self,name:str,price:float,quantity = 0):# called automatically\n",
    "       # Run validation to the received arguments\n",
    "\n",
    "        assert price >= 0, f\"Price {price} is not greater than or equal to zero!\"\n",
    "        assert quantity >= 0, f\"quantity {quantity} is not greater than or equal to zero!\"\n",
    "\n",
    "        #Assign to self object\n",
    "        self.name = name\n",
    "        self.price =price\n",
    "        self.quantity = quantity\n",
    "\n",
    "        \n",
    "\n",
    "    def calculate_total_price(self):\n",
    "        return self.price * self.quantity\n",
    "\n",
    "item1 = Item(\"Phone\",10000,5)\n",
    "\n",
    "print(item1.name)\n",
    "print(item1.price)\n",
    "print(item1.quantity)\n",
    "print(\"Total price:\",item1.calculate_total_price())\n",
    "\n",
    "\n",
    "\n",
    "item2 = Item(\"Laptop\",20000,2)\n",
    "\n",
    "print(item2.name)\n",
    "print(item2.price)\n",
    "print(item2.quantity)\n",
    "print(\"Total Price: \",item2.calculate_total_price())\n"
   ]
  },
  {
   "cell_type": "markdown",
   "metadata": {},
   "source": [
    "# Excetpion"
   ]
  },
  {
   "cell_type": "code",
   "execution_count": 24,
   "metadata": {},
   "outputs": [
    {
     "ename": "AssertionError",
     "evalue": "quantity -2 is not greater than or equal to zero!",
     "output_type": "error",
     "traceback": [
      "\u001b[1;31m---------------------------------------------------------------------------\u001b[0m",
      "\u001b[1;31mAssertionError\u001b[0m                            Traceback (most recent call last)",
      "Cell \u001b[1;32mIn[24], line 1\u001b[0m\n\u001b[1;32m----> 1\u001b[0m item3\u001b[38;5;241m=\u001b[39m \u001b[43mItem\u001b[49m\u001b[43m(\u001b[49m\u001b[38;5;124;43m\"\u001b[39;49m\u001b[38;5;124;43mLaptop\u001b[39;49m\u001b[38;5;124;43m\"\u001b[39;49m\u001b[43m,\u001b[49m\u001b[38;5;241;43m20000\u001b[39;49m\u001b[43m,\u001b[49m\u001b[38;5;241;43m-\u001b[39;49m\u001b[38;5;241;43m2\u001b[39;49m\u001b[43m)\u001b[49m\n\u001b[0;32m      3\u001b[0m \u001b[38;5;28mprint\u001b[39m(\u001b[38;5;124m\"\u001b[39m\u001b[38;5;124mTotal Price: \u001b[39m\u001b[38;5;124m\"\u001b[39m,item2\u001b[38;5;241m.\u001b[39mcalculate_total_price())\n",
      "Cell \u001b[1;32mIn[23], line 7\u001b[0m, in \u001b[0;36mItem.__init__\u001b[1;34m(self, name, price, quantity)\u001b[0m\n\u001b[0;32m      3\u001b[0m \u001b[38;5;28;01mdef\u001b[39;00m \u001b[38;5;21m__init__\u001b[39m(\u001b[38;5;28mself\u001b[39m,name:\u001b[38;5;28mstr\u001b[39m,price:\u001b[38;5;28mfloat\u001b[39m,quantity \u001b[38;5;241m=\u001b[39m \u001b[38;5;241m0\u001b[39m):\u001b[38;5;66;03m# called automatically\u001b[39;00m\n\u001b[0;32m      4\u001b[0m    \u001b[38;5;66;03m# Run validation to the received arguments\u001b[39;00m\n\u001b[0;32m      6\u001b[0m     \u001b[38;5;28;01massert\u001b[39;00m price \u001b[38;5;241m>\u001b[39m\u001b[38;5;241m=\u001b[39m \u001b[38;5;241m0\u001b[39m, \u001b[38;5;124mf\u001b[39m\u001b[38;5;124m\"\u001b[39m\u001b[38;5;124mPrice \u001b[39m\u001b[38;5;132;01m{\u001b[39;00mprice\u001b[38;5;132;01m}\u001b[39;00m\u001b[38;5;124m is not greater than or equal to zero!\u001b[39m\u001b[38;5;124m\"\u001b[39m\n\u001b[1;32m----> 7\u001b[0m     \u001b[38;5;28;01massert\u001b[39;00m quantity \u001b[38;5;241m>\u001b[39m\u001b[38;5;241m=\u001b[39m \u001b[38;5;241m0\u001b[39m, \u001b[38;5;124mf\u001b[39m\u001b[38;5;124m\"\u001b[39m\u001b[38;5;124mquantity \u001b[39m\u001b[38;5;132;01m{\u001b[39;00mquantity\u001b[38;5;132;01m}\u001b[39;00m\u001b[38;5;124m is not greater than or equal to zero!\u001b[39m\u001b[38;5;124m\"\u001b[39m\n\u001b[0;32m      9\u001b[0m     \u001b[38;5;66;03m#Assign to self object\u001b[39;00m\n\u001b[0;32m     10\u001b[0m     \u001b[38;5;28mself\u001b[39m\u001b[38;5;241m.\u001b[39mname \u001b[38;5;241m=\u001b[39m name\n",
      "\u001b[1;31mAssertionError\u001b[0m: quantity -2 is not greater than or equal to zero!"
     ]
    }
   ],
   "source": [
    "item3= Item(\"Laptop\",20000,-2)\n",
    "\n",
    "print(\"Total Price: \",item2.calculate_total_price())"
   ]
  },
  {
   "cell_type": "markdown",
   "metadata": {},
   "source": [
    "# Class Attribute"
   ]
  },
  {
   "cell_type": "code",
   "execution_count": 25,
   "metadata": {},
   "outputs": [
    {
     "name": "stdout",
     "output_type": "stream",
     "text": [
      "0.8\n",
      "0.8\n"
     ]
    }
   ],
   "source": [
    "class Item:\n",
    "    pay_rate = 0.8\n",
    "    def __init__(self,name:str,price:float,quantity = 0):# called automatically\n",
    "       # Run validation to the received arguments\n",
    "\n",
    "        assert price >= 0, f\"Price {price} is not greater than or equal to zero!\"\n",
    "        assert quantity >= 0, f\"quantity {quantity} is not greater than or equal to zero!\"\n",
    "\n",
    "        #Assign to self object\n",
    "        self.name = name\n",
    "        self.price =price\n",
    "        self.quantity = quantity\n",
    "\n",
    "        \n",
    "\n",
    "    def calculate_total_price(self):\n",
    "        return self.price * self.quantity\n",
    "\n",
    "item1 = Item(\"Phone\",10000,5)\n",
    "\n",
    "\n",
    "print(item1.pay_rate)\n",
    "\n",
    "\n",
    "item2 = Item(\"Laptop\",20000,2)\n",
    "print(item1.pay_rate)\n",
    "\n",
    "\n"
   ]
  },
  {
   "cell_type": "code",
   "execution_count": 27,
   "metadata": {},
   "outputs": [
    {
     "name": "stdout",
     "output_type": "stream",
     "text": [
      "{'__module__': '__main__', 'pay_rate': 0.8, '__init__': <function Item.__init__ at 0x0000017509863100>, 'calculate_total_price': <function Item.calculate_total_price at 0x0000017509861300>, '__dict__': <attribute '__dict__' of 'Item' objects>, '__weakref__': <attribute '__weakref__' of 'Item' objects>, '__doc__': None}\n",
      "{'name': 'Phone', 'price': 10000, 'quantity': 5}\n"
     ]
    }
   ],
   "source": [
    "print(Item.__dict__) #All the attributes of class level\n",
    "print(item1.__dict__) # All the attibutes at instance level"
   ]
  },
  {
   "cell_type": "code",
   "execution_count": 37,
   "metadata": {},
   "outputs": [
    {
     "name": "stdout",
     "output_type": "stream",
     "text": [
      "8000.0\n",
      "16000.0\n"
     ]
    },
    {
     "data": {
      "text/plain": [
       "'While mutiplying still it takes at class level'"
      ]
     },
     "execution_count": 37,
     "metadata": {},
     "output_type": "execute_result"
    }
   ],
   "source": [
    "class Item:\n",
    "    pay_rate = 0.8\n",
    "    def __init__(self,name:str,price:float,quantity = 0):# called automatically\n",
    "       # Run validation to the received arguments\n",
    "\n",
    "        assert price >= 0, f\"Price {price} is not greater than or equal to zero!\"\n",
    "        assert quantity >= 0, f\"quantity {quantity} is not greater than or equal to zero!\"\n",
    "\n",
    "        #Assign to self object\n",
    "        self.name = name\n",
    "        self.price =price\n",
    "        self.quantity = quantity\n",
    "\n",
    "    def apply_discount(self):\n",
    "        self.price = self.price * Item.pay_rate\n",
    "\n",
    "        \n",
    "\n",
    "    def calculate_total_price(self):\n",
    "        return self.price * self.quantity\n",
    "\n",
    "item1 = Item(\"Phone\",10000,5)\n",
    "item1.apply_discount()\n",
    "print(item1.price)\n",
    "\n",
    "\n",
    "\n",
    "\n",
    "\n",
    "item2 = Item(\"Laptop\",20000,2)\n",
    "item2.pay_rate = 0.7 \n",
    "item2.apply_discount()\n",
    "print(item2.price) # 20k * 0.8\n",
    "\"\"\"While mutiplying still it takes at class level\"\"\"\n"
   ]
  },
  {
   "cell_type": "markdown",
   "metadata": {},
   "source": [
    "# VS"
   ]
  },
  {
   "cell_type": "code",
   "execution_count": 39,
   "metadata": {},
   "outputs": [
    {
     "name": "stdout",
     "output_type": "stream",
     "text": [
      "8000.0\n",
      "14000.0\n"
     ]
    }
   ],
   "source": [
    "class Item:\n",
    "    pay_rate = 0.8\n",
    "    def __init__(self,name:str,price:float,quantity = 0):\n",
    "\n",
    "        #Assign to self object\n",
    "        self.name = name\n",
    "        self.price =price\n",
    "        self.quantity = quantity\n",
    "\n",
    "    def apply_discount(self):\n",
    "        self.price = self.price * self.pay_rate\n",
    "\n",
    "        \n",
    "\n",
    "    def calculate_total_price(self):\n",
    "        return self.price * self.quantity\n",
    "\n",
    "item1 = Item(\"Phone\",10000,5)\n",
    "item1.apply_discount()\n",
    "print(item1.price)\n",
    "\n",
    "\n",
    "\n",
    "\n",
    "\n",
    "item2 = Item(\"Laptop\",20000,2)\n",
    "item2.pay_rate = 0.7 # instance level\n",
    "item2.apply_discount()\n",
    "print(item2.price)# 20k * 0.7"
   ]
  },
  {
   "cell_type": "code",
   "execution_count": 43,
   "metadata": {},
   "outputs": [
    {
     "name": "stdout",
     "output_type": "stream",
     "text": [
      "[<__main__.Item object at 0x000001750935EE70>, <__main__.Item object at 0x000001750935F530>, <__main__.Item object at 0x000001750935C1A0>, <__main__.Item object at 0x000001750935C9E0>, <__main__.Item object at 0x0000017509376210>]\n",
      "<__main__.Item object at 0x000001750935EE70>\n",
      "<__main__.Item object at 0x000001750935F530>\n",
      "<__main__.Item object at 0x000001750935C1A0>\n",
      "<__main__.Item object at 0x000001750935C9E0>\n",
      "<__main__.Item object at 0x0000017509376210>\n"
     ]
    }
   ],
   "source": [
    "class Item:\n",
    "    pay_rate = 0.8\n",
    "\n",
    "    all = []\n",
    "    def __init__(self,name:str,price:float,quantity = 0):# called automatically\n",
    "       # Run validation to the received arguments\n",
    "\n",
    "        assert price >= 0, f\"Price {price} is not greater than or equal to zero!\"\n",
    "        assert quantity >= 0, f\"quantity {quantity} is not greater than or equal to zero!\"\n",
    "\n",
    "        #Assign to self object\n",
    "        self.name = name\n",
    "        self.price =price\n",
    "        self.quantity = quantity\n",
    "\n",
    "        Item.all.append(self)\n",
    "\n",
    "        \n",
    "\n",
    "    def calculate_total_price(self):\n",
    "        return self.price * self.quantity\n",
    "\n",
    "item1 = Item(\"Phone\",100,1)\n",
    "item2 = Item(\"Laptop\",1000,3)\n",
    "item3 = Item(\"Cable\",1000,5)\n",
    "item4 = Item(\"Mouse\",1000,5)\n",
    "item5 = Item(\"Keyboard\",1000,5)\n",
    "\n",
    "print(Item.all) # 5 Instances\n",
    "\n",
    "for ins in Item.all:\n",
    "    print(ins)\n",
    "\n",
    "\n"
   ]
  },
  {
   "cell_type": "code",
   "execution_count": 58,
   "metadata": {},
   "outputs": [
    {
     "name": "stdout",
     "output_type": "stream",
     "text": [
      "Name: Phone, Price: 100, Quantity: 1, Total: 100\n",
      "Name: Laptop, Price: 1000, Quantity: 3, Total: 3000\n",
      "Name: Cable, Price: 1000, Quantity: 5, Total: 5000\n",
      "Name: Mouse, Price: 1000, Quantity: 5, Total: 5000\n",
      "Name: Keyboard, Price: 1000, Quantity: 5, Total: 5000\n"
     ]
    }
   ],
   "source": [
    "import csv\n",
    "class Item:\n",
    "    pay_rate = 0.8\n",
    "\n",
    "    all = []\n",
    "    def __init__(self,name:str,price:float,quantity = 0):# called automatically\n",
    "       # Run validation to the received arguments\n",
    "\n",
    "        assert price >= 0, f\"Price {price} is not greater than or equal to zero!\"\n",
    "        assert quantity >= 0, f\"quantity {quantity} is not greater than or equal to zero!\"\n",
    "\n",
    "        #Assign to self object\n",
    "        self.name = name\n",
    "        self.price =price\n",
    "        self.quantity = quantity\n",
    "\n",
    "        Item.all.append(self)\n",
    "\n",
    "        \n",
    "\n",
    "    def calculate_total_price(self):\n",
    "        return self.price * self.quantity\n",
    "\n",
    "\n",
    "\n",
    "\n",
    "\n",
    "    @classmethod\n",
    "    def instantiate_from_csv(cls):\n",
    "            with open('demo.csv','r') as f:\n",
    "                reader = csv.DictReader(f)\n",
    "                items = list(reader)\n",
    "\n",
    "            for item in items:\n",
    "                \n",
    "                Item(\n",
    "                     name = item.get('name'),\n",
    "                     price= int(item.get('price')),\n",
    "                     quantity = int(item.get('quantity')),\n",
    "                )\n",
    "                \n",
    "\n",
    "Item.instantiate_from_csv()\n",
    "for item in Item.all:\n",
    "    print(f\"Name: {item.name}, Price: {item.price}, Quantity: {item.quantity}, Total: {item.calculate_total_price()}\")\n",
    "\n",
    "       "
   ]
  },
  {
   "cell_type": "code",
   "execution_count": null,
   "metadata": {},
   "outputs": [],
   "source": []
  },
  {
   "cell_type": "code",
   "execution_count": null,
   "metadata": {},
   "outputs": [],
   "source": []
  }
 ],
 "metadata": {
  "kernelspec": {
   "display_name": "Python 3",
   "language": "python",
   "name": "python3"
  },
  "language_info": {
   "codemirror_mode": {
    "name": "ipython",
    "version": 3
   },
   "file_extension": ".py",
   "mimetype": "text/x-python",
   "name": "python",
   "nbconvert_exporter": "python",
   "pygments_lexer": "ipython3",
   "version": "3.12.4"
  }
 },
 "nbformat": 4,
 "nbformat_minor": 2
}
